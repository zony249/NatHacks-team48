{
 "cells": [
  {
   "cell_type": "code",
   "execution_count": null,
   "id": "8ecd647e",
   "metadata": {},
   "outputs": [],
   "source": []
  },
  {
   "cell_type": "code",
   "execution_count": 34,
   "id": "302e9eb9",
   "metadata": {},
   "outputs": [],
   "source": [
    "import numpy as np\n",
    "import pandas as pd\n",
    "import mne\n",
    "import matplotlib.pyplot as plt\n",
    "\n",
    "pd.set_option(\"display.max_columns\", None)"
   ]
  },
  {
   "cell_type": "code",
   "execution_count": 35,
   "id": "6572afb6",
   "metadata": {},
   "outputs": [
    {
     "name": "stdout",
     "output_type": "stream",
     "text": [
      "Reading /home/zonyyu/Documents/Programming Projects/Project Files/NatHacks2021/NatHacks-team48/prob_dataset/sub-005/eeg/sub-005_task-ProbabilisticSelection_eeg.fdt\n"
     ]
    }
   ],
   "source": [
    "path = \"prob_dataset/sub-005/eeg/sub-005_task-ProbabilisticSelection_eeg.set\"\n",
    "# data = pd.read_csv(path, delimiter='\\t')\n",
    "# data\n",
    "\n",
    "raw = mne.io.read_raw_eeglab(path)\n",
    "# data\n",
    "# raw.info"
   ]
  },
  {
   "cell_type": "code",
   "execution_count": 41,
   "id": "bbe626cc",
   "metadata": {},
   "outputs": [
    {
     "name": "stdout",
     "output_type": "stream",
     "text": [
      "data.shape: (67, 823400)\n",
      "times.shape: (823400,)\n",
      "Time in seconds: 1646.8\n"
     ]
    },
    {
     "data": {
      "text/plain": [
       "[<matplotlib.lines.Line2D at 0x7f27a0a5bc70>,\n",
       " <matplotlib.lines.Line2D at 0x7f27a0a5bc40>,\n",
       " <matplotlib.lines.Line2D at 0x7f27a0a57310>,\n",
       " <matplotlib.lines.Line2D at 0x7f27863c7070>,\n",
       " <matplotlib.lines.Line2D at 0x7f27863c7190>,\n",
       " <matplotlib.lines.Line2D at 0x7f27863c72b0>,\n",
       " <matplotlib.lines.Line2D at 0x7f27863c73d0>,\n",
       " <matplotlib.lines.Line2D at 0x7f27863c74f0>,\n",
       " <matplotlib.lines.Line2D at 0x7f27863c7610>,\n",
       " <matplotlib.lines.Line2D at 0x7f27863c7730>,\n",
       " <matplotlib.lines.Line2D at 0x7f27a08f9b80>,\n",
       " <matplotlib.lines.Line2D at 0x7f27863c7850>,\n",
       " <matplotlib.lines.Line2D at 0x7f27863c7a60>,\n",
       " <matplotlib.lines.Line2D at 0x7f27863c7b80>,\n",
       " <matplotlib.lines.Line2D at 0x7f27863c7ca0>,\n",
       " <matplotlib.lines.Line2D at 0x7f27863c7dc0>,\n",
       " <matplotlib.lines.Line2D at 0x7f27863c7ee0>,\n",
       " <matplotlib.lines.Line2D at 0x7f27863cd040>,\n",
       " <matplotlib.lines.Line2D at 0x7f27863cd160>,\n",
       " <matplotlib.lines.Line2D at 0x7f27863cd280>,\n",
       " <matplotlib.lines.Line2D at 0x7f27863cd3a0>,\n",
       " <matplotlib.lines.Line2D at 0x7f27863cd4c0>,\n",
       " <matplotlib.lines.Line2D at 0x7f27863cd5e0>,\n",
       " <matplotlib.lines.Line2D at 0x7f27863cd700>,\n",
       " <matplotlib.lines.Line2D at 0x7f27863cd820>,\n",
       " <matplotlib.lines.Line2D at 0x7f27863cd940>,\n",
       " <matplotlib.lines.Line2D at 0x7f27863cda60>,\n",
       " <matplotlib.lines.Line2D at 0x7f27863cdb80>,\n",
       " <matplotlib.lines.Line2D at 0x7f27863cdca0>,\n",
       " <matplotlib.lines.Line2D at 0x7f27863cddc0>,\n",
       " <matplotlib.lines.Line2D at 0x7f27863cdee0>,\n",
       " <matplotlib.lines.Line2D at 0x7f27863d4040>,\n",
       " <matplotlib.lines.Line2D at 0x7f27863d4160>,\n",
       " <matplotlib.lines.Line2D at 0x7f27863d4280>,\n",
       " <matplotlib.lines.Line2D at 0x7f27863d43a0>,\n",
       " <matplotlib.lines.Line2D at 0x7f27863d44c0>,\n",
       " <matplotlib.lines.Line2D at 0x7f27863d45e0>,\n",
       " <matplotlib.lines.Line2D at 0x7f27863d4700>,\n",
       " <matplotlib.lines.Line2D at 0x7f27863d4820>,\n",
       " <matplotlib.lines.Line2D at 0x7f27863d4940>,\n",
       " <matplotlib.lines.Line2D at 0x7f27863d4a60>,\n",
       " <matplotlib.lines.Line2D at 0x7f27863d4b80>,\n",
       " <matplotlib.lines.Line2D at 0x7f27863d4ca0>,\n",
       " <matplotlib.lines.Line2D at 0x7f27863d4dc0>,\n",
       " <matplotlib.lines.Line2D at 0x7f27863d4ee0>,\n",
       " <matplotlib.lines.Line2D at 0x7f27863db040>,\n",
       " <matplotlib.lines.Line2D at 0x7f27863db160>,\n",
       " <matplotlib.lines.Line2D at 0x7f27863db280>,\n",
       " <matplotlib.lines.Line2D at 0x7f27863db3a0>,\n",
       " <matplotlib.lines.Line2D at 0x7f27863db4c0>,\n",
       " <matplotlib.lines.Line2D at 0x7f27863db5e0>,\n",
       " <matplotlib.lines.Line2D at 0x7f27863db700>,\n",
       " <matplotlib.lines.Line2D at 0x7f27863db820>,\n",
       " <matplotlib.lines.Line2D at 0x7f27863db940>,\n",
       " <matplotlib.lines.Line2D at 0x7f27863dba60>,\n",
       " <matplotlib.lines.Line2D at 0x7f27863dbb80>,\n",
       " <matplotlib.lines.Line2D at 0x7f27863dbca0>,\n",
       " <matplotlib.lines.Line2D at 0x7f27863dbdc0>,\n",
       " <matplotlib.lines.Line2D at 0x7f27863dbee0>,\n",
       " <matplotlib.lines.Line2D at 0x7f27863e1040>,\n",
       " <matplotlib.lines.Line2D at 0x7f27863e1160>,\n",
       " <matplotlib.lines.Line2D at 0x7f27863e1280>,\n",
       " <matplotlib.lines.Line2D at 0x7f27863e13a0>,\n",
       " <matplotlib.lines.Line2D at 0x7f27863e14c0>,\n",
       " <matplotlib.lines.Line2D at 0x7f27863e15e0>,\n",
       " <matplotlib.lines.Line2D at 0x7f27863e1700>,\n",
       " <matplotlib.lines.Line2D at 0x7f27863e1820>]"
      ]
     },
     "execution_count": 41,
     "metadata": {},
     "output_type": "execute_result"
    },
    {
     "data": {
      "image/png": "[encoded data removed]",
      "text/plain": [
       "<Figure size 432x288 with 1 Axes>"
      ]
     },
     "metadata": {
      "needs_background": "light"
     },
     "output_type": "display_data"
    }
   ],
   "source": [
    "sf = raw.info[\"sfreq\"]\n",
    "\n",
    "data, times = raw[:, int(sf*0):]\n",
    "\n",
    "print(f\"data.shape: {data.shape}\")\n",
    "print(f\"times.shape: {times.shape}\")\n",
    "\n",
    "print(f\"Time in seconds: {data.shape[1]/sf}\")\n",
    "\n",
    "plt.plot(times, data.T[:, :])"
   ]
  },
  {
   "cell_type": "code",
   "execution_count": null,
   "id": "083e3fd0",
   "metadata": {},
   "outputs": [],
   "source": []
  }
 ],
 "metadata": {
  "kernelspec": {
   "display_name": "Python 3",
   "language": "python",
   "name": "python3"
  },
  "language_info": {
   "codemirror_mode": {
    "name": "ipython",
    "version": 3
   },
   "file_extension": ".py",
   "mimetype": "text/x-python",
   "name": "python",
   "nbconvert_exporter": "python",
   "pygments_lexer": "ipython3",
   "version": "3.9.2"
  }
 },
 "nbformat": 4,
 "nbformat_minor": 5
}
